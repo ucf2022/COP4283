{
 "cells": [
  {
   "cell_type": "code",
   "execution_count": 7,
   "id": "07f322eb",
   "metadata": {},
   "outputs": [
    {
     "name": "stdout",
     "output_type": "stream",
     "text": [
      "Hello World!\n",
      "Can't wait to see what this course has in store for us! :)\n"
     ]
    }
   ],
   "source": [
    "print(\"Hello World!\")\n",
    "print(\"Can't wait to see what this course has in store for us! :)\")"
   ]
  },
  {
   "cell_type": "markdown",
   "id": "a8946626",
   "metadata": {},
   "source": [
    "I'm pretty new to Jupyter notebook!!! "
   ]
  }
 ],
 "metadata": {
  "kernelspec": {
   "display_name": "Python 3 (ipykernel)",
   "language": "python",
   "name": "python3"
  },
  "language_info": {
   "codemirror_mode": {
    "name": "ipython",
    "version": 3
   },
   "file_extension": ".py",
   "mimetype": "text/x-python",
   "name": "python",
   "nbconvert_exporter": "python",
   "pygments_lexer": "ipython3",
   "version": "3.9.12"
  }
 },
 "nbformat": 4,
 "nbformat_minor": 5
}
